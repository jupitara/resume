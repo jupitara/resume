{
  "nbformat": 4,
  "nbformat_minor": 0,
  "metadata": {
    "colab": {
      "provenance": [],
      "authorship_tag": "ABX9TyPLollzTgBiNCkSInAJ/mgN",
      "include_colab_link": true
    },
    "kernelspec": {
      "name": "python3",
      "display_name": "Python 3"
    },
    "language_info": {
      "name": "python"
    }
  },
  "cells": [
    {
      "cell_type": "markdown",
      "metadata": {
        "id": "view-in-github",
        "colab_type": "text"
      },
      "source": [
        "<a href=\"https://colab.research.google.com/github/jupitara/resume/blob/main/1stcolab.ipynb\" target=\"_parent\"><img src=\"https://colab.research.google.com/assets/colab-badge.svg\" alt=\"Open In Colab\"/></a>"
      ]
    },
    {
      "cell_type": "code",
      "execution_count": 1,
      "metadata": {
        "colab": {
          "base_uri": "https://localhost:8080/"
        },
        "id": "BzvQB509FFnf",
        "outputId": "93edc0ac-ce99-4325-9f5a-d9e276088c8a"
      },
      "outputs": [
        {
          "output_type": "stream",
          "name": "stdout",
          "text": [
            "jupitara\n"
          ]
        }
      ],
      "source": [
        "print(\"jupitara\")"
      ]
    },
    {
      "cell_type": "code",
      "source": [
        "a =20\n",
        "b = 20\n",
        "c = a + b\n",
        "print(\"sum = \",c)"
      ],
      "metadata": {
        "colab": {
          "base_uri": "https://localhost:8080/"
        },
        "id": "5D3NbCaLFXrl",
        "outputId": "2f47c0b2-f177-464a-ad45-0aac45479d0b"
      },
      "execution_count": 2,
      "outputs": [
        {
          "output_type": "stream",
          "name": "stdout",
          "text": [
            "sum =  40\n"
          ]
        }
      ]
    }
  ]
}